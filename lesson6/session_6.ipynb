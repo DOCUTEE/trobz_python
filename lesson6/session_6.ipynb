{
 "cells": [
  {
   "cell_type": "markdown",
   "id": "9c8126c4",
   "metadata": {},
   "source": [
    "# Date and TIME"
   ]
  },
  {
   "cell_type": "code",
   "execution_count": 2,
   "id": "983a5b03",
   "metadata": {},
   "outputs": [],
   "source": [
    "from datetime import date, datetime"
   ]
  },
  {
   "cell_type": "code",
   "execution_count": 3,
   "id": "ead4a64f",
   "metadata": {},
   "outputs": [
    {
     "name": "stdout",
     "output_type": "stream",
     "text": [
      "Today's date: 2025-08-27\n"
     ]
    }
   ],
   "source": [
    "# Today\n",
    "today = date.today()\n",
    "print(\"Today's date:\", today)"
   ]
  },
  {
   "cell_type": "code",
   "execution_count": 37,
   "id": "04c50765",
   "metadata": {},
   "outputs": [
    {
     "name": "stdout",
     "output_type": "stream",
     "text": [
      "relativedelta(years=+1, months=+3, days=+17)\n"
     ]
    }
   ],
   "source": [
    "from dateutil.relativedelta import relativedelta\n",
    "\n",
    "print(relativedelta(date(2026,12,12),date(2025,8,25)))"
   ]
  },
  {
   "cell_type": "code",
   "execution_count": null,
   "id": "383ccb20",
   "metadata": {},
   "outputs": [
    {
     "ename": "SyntaxError",
     "evalue": "leading zeros in decimal integer literals are not permitted; use an 0o prefix for octal integers (1300351672.py, line 1)",
     "output_type": "error",
     "traceback": [
      "  \u001b[36mCell\u001b[39m\u001b[36m \u001b[39m\u001b[32mIn[30]\u001b[39m\u001b[32m, line 1\u001b[39m\n\u001b[31m    \u001b[39m\u001b[31mprint(date(2025,02,12))\u001b[39m\n                    ^\n\u001b[31mSyntaxError\u001b[39m\u001b[31m:\u001b[39m leading zeros in decimal integer literals are not permitted; use an 0o prefix for octal integers\n"
     ]
    }
   ],
   "source": [
    "print(date(2025,2,12))"
   ]
  },
  {
   "cell_type": "code",
   "execution_count": 4,
   "id": "23d9d292",
   "metadata": {},
   "outputs": [
    {
     "name": "stdout",
     "output_type": "stream",
     "text": [
      "Current date and time: 2025-08-27 14:51:24.934024\n"
     ]
    }
   ],
   "source": [
    "# Current Date and Time\n",
    "now = datetime.now()\n",
    "print(\"Current date and time:\", now)"
   ]
  },
  {
   "cell_type": "code",
   "execution_count": 5,
   "id": "1ad9197b",
   "metadata": {},
   "outputs": [
    {
     "name": "stdout",
     "output_type": "stream",
     "text": [
      "Current UTC date and time: 2025-08-27 07:51:24.941014+00:00\n"
     ]
    }
   ],
   "source": [
    "from datetime import UTC\n",
    "\n",
    "utc_now = datetime.now(UTC)\n",
    "print(\"Current UTC date and time:\", utc_now)"
   ]
  },
  {
   "cell_type": "code",
   "execution_count": 6,
   "id": "235c308e",
   "metadata": {},
   "outputs": [
    {
     "name": "stdout",
     "output_type": "stream",
     "text": [
      "Specific date: 2025-08-24\n",
      "Current time: 14:51:24.946216\n",
      "Combined date and time: 2025-08-24 14:51:24.946216\n"
     ]
    }
   ],
   "source": [
    "d = date(2025, 8, 24)\n",
    "t = datetime.now().time()\n",
    "print(\"Specific date:\", d)\n",
    "print(\"Current time:\", t)\n",
    "\n",
    "combined = datetime.combine(d, t)\n",
    "print(\"Combined date and time:\", combined)"
   ]
  },
  {
   "cell_type": "code",
   "execution_count": 24,
   "id": "51fcf588",
   "metadata": {},
   "outputs": [
    {
     "name": "stdout",
     "output_type": "stream",
     "text": [
      "New date and time after adding 5 days, 3 hours, and 30 minutes: 2025-11-01 18:21:25.669122\n",
      "<class 'datetime.timedelta'>\n",
      "<class 'datetime.timedelta'>\n",
      "5\n"
     ]
    }
   ],
   "source": [
    "# Time Delta\n",
    "from datetime import timedelta\n",
    "delta = timedelta(days=5, hours=3, minutes=30)\n",
    "new_datetime = now + delta\n",
    "print(\"New date and time after adding 5 days, 3 hours, and 30 minutes:\", new_datetime)\n",
    "print(type(delta))\n",
    "\n",
    "print(type(new_datetime - now))\n",
    "print(delta.days)"
   ]
  },
  {
   "cell_type": "code",
   "execution_count": 8,
   "id": "3230bd04",
   "metadata": {},
   "outputs": [],
   "source": [
    "import calendar"
   ]
  },
  {
   "cell_type": "code",
   "execution_count": 9,
   "id": "a422c972",
   "metadata": {},
   "outputs": [
    {
     "name": "stdout",
     "output_type": "stream",
     "text": [
      "     June 2024\n",
      "Mo Tu We Th Fr Sa Su\n",
      "                1  2\n",
      " 3  4  5  6  7  8  9\n",
      "10 11 12 13 14 15 16\n",
      "17 18 19 20 21 22 23\n",
      "24 25 26 27 28 29 30\n",
      "\n"
     ]
    }
   ],
   "source": [
    "print(calendar.month(2024, 6))  # June 2024"
   ]
  },
  {
   "cell_type": "markdown",
   "id": "4cb1bf74",
   "metadata": {},
   "source": [
    "# TIME"
   ]
  },
  {
   "cell_type": "code",
   "execution_count": 10,
   "id": "6ab4a863",
   "metadata": {},
   "outputs": [
    {
     "name": "stdout",
     "output_type": "stream",
     "text": [
      "Timestamp: 1756281084.9647453\n",
      "Datetime from timestamp: 2025-08-27 14:51:24.964745\n"
     ]
    }
   ],
   "source": [
    "import time\n",
    "\n",
    "ts = time.time()\n",
    "print(\"Timestamp:\", ts)\n",
    "dt = datetime.fromtimestamp(ts)\n",
    "print(\"Datetime from timestamp:\", dt)"
   ]
  },
  {
   "cell_type": "code",
   "execution_count": 11,
   "id": "c0009753",
   "metadata": {},
   "outputs": [
    {
     "data": {
      "text/plain": [
       "datetime.date(2024, 6, 5)"
      ]
     },
     "execution_count": 11,
     "metadata": {},
     "output_type": "execute_result"
    }
   ],
   "source": [
    "from datetime import date\n",
    "\n",
    "date.fromisoformat('2024-06-05')"
   ]
  },
  {
   "cell_type": "code",
   "execution_count": 12,
   "id": "f6f56eb9",
   "metadata": {},
   "outputs": [
    {
     "name": "stdout",
     "output_type": "stream",
     "text": [
      "Parsed datetime: 2020-11-23 13:53:45\n"
     ]
    }
   ],
   "source": [
    "date_string = \"23-11-2020 13:53:45\"\n",
    "\n",
    "format_string = \"%d-%m-%Y %H:%M:%S\"\n",
    "dt = datetime.strptime(date_string, format_string)\n",
    "print(\"Parsed datetime:\", dt)"
   ]
  },
  {
   "cell_type": "code",
   "execution_count": 13,
   "id": "567c637b",
   "metadata": {},
   "outputs": [
    {
     "name": "stdout",
     "output_type": "stream",
     "text": [
      "Current date and time: 2025-08-27 14:51:24.981399\n",
      "Date and time after adding 2 days and 3 hours: 2025-08-29 17:51:24.981399\n",
      "Date and time after subtracting 1 week: 2025-08-22 17:51:24.981399\n"
     ]
    }
   ],
   "source": [
    "# Current Date and Time\n",
    "now = datetime.now()\n",
    "print(\"Current date and time:\", now)\n",
    "now += timedelta(days=2, hours=3)\n",
    "print(\"Date and time after adding 2 days and 3 hours:\", now)\n",
    "now -= timedelta(weeks=1)\n",
    "print(\"Date and time after subtracting 1 week:\", now)"
   ]
  },
  {
   "cell_type": "code",
   "execution_count": 14,
   "id": "745f230e",
   "metadata": {},
   "outputs": [
    {
     "name": "stdout",
     "output_type": "stream",
     "text": [
      "Requirement already satisfied: python-dateutil in /home/docutee/miniconda3/lib/python3.13/site-packages (2.9.0.post0)\n",
      "Requirement already satisfied: six>=1.5 in /home/docutee/miniconda3/lib/python3.13/site-packages (from python-dateutil) (1.17.0)\n"
     ]
    }
   ],
   "source": [
    "!pip install python-dateutil"
   ]
  },
  {
   "cell_type": "code",
   "execution_count": 15,
   "id": "89c3ef80",
   "metadata": {},
   "outputs": [
    {
     "name": "stdout",
     "output_type": "stream",
     "text": [
      "Current date and time: 2025-08-27 14:51:25.669122\n",
      "Date and time after adding 2 months: 2025-10-27 14:51:25.669122\n"
     ]
    }
   ],
   "source": [
    "from datetime import datetime\n",
    "from dateutil.relativedelta import relativedelta\n",
    "\n",
    "now = datetime.now()\n",
    "print(\"Current date and time:\", now)\n",
    "now += relativedelta(months=2)\n",
    "print(\"Date and time after adding 2 months:\", now)"
   ]
  },
  {
   "cell_type": "code",
   "execution_count": 16,
   "id": "8b3dd0c2",
   "metadata": {},
   "outputs": [
    {
     "name": "stdout",
     "output_type": "stream",
     "text": [
      "Current date and time in GMT+7: 2025-08-27 14:51:25.676289+07:00\n"
     ]
    }
   ],
   "source": [
    "from datetime import timezone \n",
    "\n",
    "gmt_7 = timezone(timedelta(hours=7))\n",
    "\n",
    "tz_vn = datetime.now(gmt_7)\n",
    "print(\"Current date and time in GMT+7:\", tz_vn)"
   ]
  },
  {
   "cell_type": "code",
   "execution_count": 17,
   "id": "15f1077e",
   "metadata": {},
   "outputs": [
    {
     "data": {
      "text/plain": [
       "datetime.datetime(2025, 8, 27, 14, 51, 25, 694800, tzinfo=<DstTzInfo 'Asia/Ho_Chi_Minh' +07+7:00:00 STD>)"
      ]
     },
     "execution_count": 17,
     "metadata": {},
     "output_type": "execute_result"
    }
   ],
   "source": [
    "import pytz\n",
    "\n",
    "tz_vn = pytz.timezone('Asia/Ho_Chi_Minh')\n",
    "\n",
    "datetime.now(tz_vn)\n",
    "\n"
   ]
  },
  {
   "cell_type": "code",
   "execution_count": 18,
   "id": "8d44c2f4",
   "metadata": {},
   "outputs": [
    {
     "data": {
      "text/plain": [
       "datetime.datetime(2025, 8, 27, 14, 51, 25, 701567, tzinfo=tzfile('/usr/share/zoneinfo/Asia/Ho_Chi_Minh'))"
      ]
     },
     "execution_count": 18,
     "metadata": {},
     "output_type": "execute_result"
    }
   ],
   "source": [
    "from dateutil import tz\n",
    "\n",
    "tz_vn = tz.gettz('Asia/Ho_Chi_Minh')\n",
    "\n",
    "datetime.now(tz = tz_vn)"
   ]
  },
  {
   "cell_type": "markdown",
   "id": "cf0ab880",
   "metadata": {},
   "source": [
    "# Naive vs Aware Datetime"
   ]
  },
  {
   "cell_type": "markdown",
   "id": "185e17fc",
   "metadata": {},
   "source": [
    "- Naive is not aware of timezone(we don't know where it is)\n",
    "Example: 2020-11-23 13:53:45\n",
    "- Aware is aware of timezone(we know where it is)\n",
    "Example: 2020-11-23 13:53:45+07:00 (GMT+7)"
   ]
  },
  {
   "cell_type": "code",
   "execution_count": 19,
   "id": "5a03ccd5",
   "metadata": {},
   "outputs": [
    {
     "name": "stdout",
     "output_type": "stream",
     "text": [
      "Naive datetime: 2025-08-27 14:51:25.706535\n"
     ]
    }
   ],
   "source": [
    "dt_naive = datetime.now()\n",
    "print(\"Naive datetime:\", dt_naive)"
   ]
  },
  {
   "cell_type": "code",
   "execution_count": 20,
   "id": "068e04ba",
   "metadata": {},
   "outputs": [
    {
     "name": "stdout",
     "output_type": "stream",
     "text": [
      "Aware datetime: 2025-08-27 14:51:25.711722+07:00\n"
     ]
    }
   ],
   "source": [
    "dt_aware = datetime.now(tz = tz_vn)\n",
    "print(\"Aware datetime:\", dt_aware)"
   ]
  },
  {
   "cell_type": "code",
   "execution_count": 21,
   "id": "0c40aa3f",
   "metadata": {},
   "outputs": [
    {
     "name": "stdout",
     "output_type": "stream",
     "text": [
      "Converted to UTC: 2025-08-27 07:51:25.711722+00:00\n"
     ]
    }
   ],
   "source": [
    "dt_utc = dt_aware.astimezone(UTC)\n",
    "print(\"Converted to UTC:\", dt_utc)"
   ]
  },
  {
   "cell_type": "code",
   "execution_count": 22,
   "id": "0d3f3cc6",
   "metadata": {},
   "outputs": [
    {
     "name": "stdout",
     "output_type": "stream",
     "text": [
      "Converted to UTC using replace(): 2025-08-27 14:51:25.711722+00:00\n"
     ]
    }
   ],
   "source": [
    "dt_utc_replace = dt_aware.replace(tzinfo=UTC)\n",
    "print(\"Converted to UTC using replace():\", dt_utc_replace)"
   ]
  },
  {
   "cell_type": "markdown",
   "id": "b3dfee65",
   "metadata": {},
   "source": [
    "- replace() vs astimezone()\n",
    "    - replace(): just replace the timezone info, not change the time\n",
    "    - astimezone(): convert to another timezone, change the time accordingly"
   ]
  }
 ],
 "metadata": {
  "kernelspec": {
   "display_name": "base",
   "language": "python",
   "name": "python3"
  },
  "language_info": {
   "codemirror_mode": {
    "name": "ipython",
    "version": 3
   },
   "file_extension": ".py",
   "mimetype": "text/x-python",
   "name": "python",
   "nbconvert_exporter": "python",
   "pygments_lexer": "ipython3",
   "version": "3.13.5"
  }
 },
 "nbformat": 4,
 "nbformat_minor": 5
}
