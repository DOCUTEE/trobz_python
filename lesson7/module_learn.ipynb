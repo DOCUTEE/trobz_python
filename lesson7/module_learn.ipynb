{
 "cells": [
  {
   "cell_type": "code",
   "execution_count": null,
   "id": "b5b9741c",
   "metadata": {},
   "outputs": [
    {
     "ename": "ModuleNotFoundError",
     "evalue": "No module named 'mymath'",
     "output_type": "error",
     "traceback": [
      "\u001b[31m---------------------------------------------------------------------------\u001b[39m",
      "\u001b[31mModuleNotFoundError\u001b[39m                       Traceback (most recent call last)",
      "\u001b[36mCell\u001b[39m\u001b[36m \u001b[39m\u001b[32mIn[3]\u001b[39m\u001b[32m, line 1\u001b[39m\n\u001b[32m----> \u001b[39m\u001b[32m1\u001b[39m \u001b[38;5;28;01mimport\u001b[39;00m\u001b[38;5;250m \u001b[39m\u001b[34;01mmymath\u001b[39;00m\n\u001b[32m      3\u001b[39m \u001b[38;5;28mprint\u001b[39m(\u001b[33m\"\u001b[39m\u001b[33mSquare of 5:\u001b[39m\u001b[33m\"\u001b[39m, mymath.square(\u001b[32m5\u001b[39m))\n\u001b[32m      4\u001b[39m \u001b[38;5;28mprint\u001b[39m(\u001b[33m\"\u001b[39m\u001b[33mPI number:\u001b[39m\u001b[33m\"\u001b[39m, mymath.PI) \n",
      "\u001b[31mModuleNotFoundError\u001b[39m: No module named 'mymath'"
     ]
    }
   ],
   "source": [
    "import packagemymath\n",
    "\n",
    "print(\"Square of 5:\", mymath.square(5))\n",
    "print(\"PI number:\", mymath.PI) \n"
   ]
  },
  {
   "cell_type": "code",
   "execution_count": null,
   "id": "0fde6671",
   "metadata": {},
   "outputs": [
    {
     "name": "stdout",
     "output_type": "stream",
     "text": [
      "Square of 6: 36\n"
     ]
    }
   ],
   "source": [
    "from mymath import square, PI\n",
    "print(\"Square of 6:\", square(6))"
   ]
  },
  {
   "cell_type": "code",
   "execution_count": null,
   "id": "8981fa46",
   "metadata": {},
   "outputs": [
    {
     "data": {
      "text/plain": [
       "['PI',\n",
       " '__builtins__',\n",
       " '__cached__',\n",
       " '__doc__',\n",
       " '__file__',\n",
       " '__loader__',\n",
       " '__name__',\n",
       " '__package__',\n",
       " '__spec__',\n",
       " 'circle_area',\n",
       " 'square']"
      ]
     },
     "execution_count": 9,
     "metadata": {},
     "output_type": "execute_result"
    }
   ],
   "source": [
    "dir(mymath)"
   ]
  },
  {
   "cell_type": "markdown",
   "id": "9ba92ba9",
   "metadata": {},
   "source": [
    "## RELOAD MODULE\n",
    "When you modify a module, you need to reload it to see the changes in the current session."
   ]
  },
  {
   "cell_type": "code",
   "execution_count": null,
   "id": "29aec391",
   "metadata": {},
   "outputs": [
    {
     "data": {
      "text/plain": [
       "<module 'mymath' from '/home/docutee/Code/trobz/lesson7/mymath.py'>"
      ]
     },
     "execution_count": 12,
     "metadata": {},
     "output_type": "execute_result"
    }
   ],
   "source": [
    "import importlib\n",
    "\n",
    "importlib.reload(mymath)"
   ]
  },
  {
   "cell_type": "code",
   "execution_count": null,
   "id": "8600387f",
   "metadata": {},
   "outputs": [
    {
     "name": "stdout",
     "output_type": "stream",
     "text": [
      "5\n"
     ]
    }
   ],
   "source": [
    "print(mymath.cons)"
   ]
  },
  {
   "cell_type": "markdown",
   "id": "5c54588c",
   "metadata": {},
   "source": [
    "# Absolute Import"
   ]
  },
  {
   "cell_type": "code",
   "execution_count": null,
   "id": "f043ec05",
   "metadata": {},
   "outputs": [
    {
     "name": "stdout",
     "output_type": "stream",
     "text": [
      "Nguyen Van A is studying.\n"
     ]
    }
   ],
   "source": [
    "from package1.subpackage import student\n",
    "\n",
    "student.study()"
   ]
  },
  {
   "cell_type": "markdown",
   "id": "8499687b",
   "metadata": {},
   "source": [
    "# Relative Import (Must ask)"
   ]
  },
  {
   "cell_type": "code",
   "execution_count": null,
   "id": "2495df76",
   "metadata": {},
   "outputs": [
    {
     "ename": "ImportError",
     "evalue": "attempted relative import with no known parent package",
     "output_type": "error",
     "traceback": [
      "\u001b[31m---------------------------------------------------------------------------\u001b[39m",
      "\u001b[31mImportError\u001b[39m                               Traceback (most recent call last)",
      "\u001b[36mCell\u001b[39m\u001b[36m \u001b[39m\u001b[32mIn[52]\u001b[39m\u001b[32m, line 1\u001b[39m\n\u001b[32m----> \u001b[39m\u001b[32m1\u001b[39m \u001b[38;5;28;01mfrom\u001b[39;00m\u001b[38;5;250m \u001b[39m\u001b[34;01m.\u001b[39;00m\u001b[34;01mpackage1\u001b[39;00m\u001b[38;5;250m \u001b[39m\u001b[38;5;28;01mimport\u001b[39;00m student\n\u001b[32m      3\u001b[39m student.study()\n",
      "\u001b[31mImportError\u001b[39m: attempted relative import with no known parent package"
     ]
    }
   ],
   "source": [
    "from .package1 import student\n",
    "\n",
    "student.study()"
   ]
  }
 ],
 "metadata": {
  "kernelspec": {
   "display_name": "base",
   "language": "python",
   "name": "python3"
  },
  "language_info": {
   "codemirror_mode": {
    "name": "ipython",
    "version": 3
   },
   "file_extension": ".py",
   "mimetype": "text/x-python",
   "name": "python",
   "nbconvert_exporter": "python",
   "pygments_lexer": "ipython3",
   "version": "3.13.5"
  }
 },
 "nbformat": 4,
 "nbformat_minor": 5
}
