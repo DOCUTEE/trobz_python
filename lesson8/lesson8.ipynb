{
 "cells": [
  {
   "cell_type": "markdown",
   "id": "cd556830",
   "metadata": {},
   "source": [
    "## Classes and Objects"
   ]
  },
  {
   "cell_type": "code",
   "execution_count": 5,
   "id": "91b18aac",
   "metadata": {},
   "outputs": [],
   "source": [
    "class student:\n",
    "    def __init__(self, name, age):\n",
    "        self.name = name\n",
    "        self.age = age\n",
    "\n",
    "    def study(self):\n",
    "        print(f\"{self.name} is studying.\")"
   ]
  },
  {
   "cell_type": "code",
   "execution_count": 6,
   "id": "ac045af8",
   "metadata": {},
   "outputs": [
    {
     "name": "stdout",
     "output_type": "stream",
     "text": [
      "Tran Thi B is studying.\n"
     ]
    }
   ],
   "source": [
    "student2 = student(\"Tran Thi B\", 22)\n",
    "student2.study()"
   ]
  },
  {
   "cell_type": "code",
   "execution_count": 11,
   "id": "825a365c",
   "metadata": {},
   "outputs": [
    {
     "name": "stdout",
     "output_type": "stream",
     "text": [
      "Tran Thi B\n",
      "Nguyen Van A\n",
      "Tran Thi B is studying.\n",
      "<class '__main__.student'>\n"
     ]
    }
   ],
   "source": [
    "class student:\n",
    "    def __init__(self, name=\"Nguyen Van A\", age=20):\n",
    "        self.name = name\n",
    "        self.age = age\n",
    "    def study(self):\n",
    "        print(f\"{self.name} is studying.\")\n",
    "        print(type(self))\n",
    "\n",
    "student1 = student()\n",
    "student2 = student()\n",
    "\n",
    "student1.name = \"Tran Thi B\"\n",
    "\n",
    "print(student1.name)\n",
    "print(student2.name)\n",
    "\n",
    "student1.study()\n",
    "\n",
    "# student1.study()\n"
   ]
  },
  {
   "cell_type": "markdown",
   "id": "9b6106e0",
   "metadata": {},
   "source": [
    "# Inheritance"
   ]
  },
  {
   "cell_type": "code",
   "execution_count": null,
   "id": "43a42eb6",
   "metadata": {},
   "outputs": [
    {
     "name": "stdout",
     "output_type": "stream",
     "text": [
      "Bird\n",
      "Penguin is ready\n",
      "Penguin\n",
      "Swim faster\n",
      "Run faster\n"
     ]
    }
   ],
   "source": [
    "class Bird:\n",
    "    def __init__(self):\n",
    "        print(\"Bird is ready\")\n",
    "    \n",
    "    def whoisThis(self):\n",
    "        print(\"Bird\")\n",
    "\n",
    "    def swim(self):\n",
    "        print(\"Swim faster\")\n",
    "\n",
    "# class student:\n",
    "#     def __init__(self, name, age):\n",
    "#         self.name = name\n",
    "#         self.age = age\n",
    "\n",
    "#     def study(self):\n",
    "#         print(f\"{self.name} is studying.\")\n",
    "\n",
    "class Penguin(Bird):\n",
    "    def __init__(self):\n",
    "        super(Penguin, self).__init__()\n",
    "        # Bird.whoisThis(self)\n",
    "        print(\"Penguin is ready\")\n",
    "    \n",
    "    def whoisThis(self):\n",
    "        print(\"Penguin\")\n",
    "\n",
    "    def run(self):\n",
    "        print(\"Run faster\")\n",
    "\n",
    "    \n",
    "peggy = Penguin()\n",
    "peggy.whoisThis()\n",
    "peggy.swim()\n",
    "peggy.run()"
   ]
  },
  {
   "cell_type": "code",
   "execution_count": null,
   "id": "abe206b7",
   "metadata": {},
   "outputs": [
    {
     "name": "stdout",
     "output_type": "stream",
     "text": [
      "Le Van C is studying Computer Science.\n"
     ]
    }
   ],
   "source": [
    "class it_student(student):\n",
    "    def __init__(self, name, age, major):\n",
    "        super().__init__(name, age)\n",
    "        self.major = major\n",
    "\n",
    "    def study(self):\n",
    "        print(f\"{self.name} is studying {self.major}.\")\n",
    "\n",
    "it_student1 = it_student(\"Le Van C\", 21, \"Computer Science\")\n",
    "it_student1.study()"
   ]
  },
  {
   "cell_type": "markdown",
   "id": "fbd6a527",
   "metadata": {},
   "source": [
    "# Private and Protected attributes and methods"
   ]
  },
  {
   "cell_type": "code",
   "execution_count": null,
   "id": "445fd599",
   "metadata": {},
   "outputs": [
    {
     "ename": "AttributeError",
     "evalue": "'Person' object has no attribute '_Person__init__'",
     "output_type": "error",
     "traceback": [
      "\u001b[31m---------------------------------------------------------------------------\u001b[39m",
      "\u001b[31mAttributeError\u001b[39m                            Traceback (most recent call last)",
      "\u001b[36mCell\u001b[39m\u001b[36m \u001b[39m\u001b[32mIn[23]\u001b[39m\u001b[32m, line 10\u001b[39m\n\u001b[32m      6\u001b[39m         \u001b[38;5;28mprint\u001b[39m(\u001b[33mf\u001b[39m\u001b[33m\"\u001b[39m\u001b[33mName: \u001b[39m\u001b[38;5;132;01m{\u001b[39;00m\u001b[38;5;28mself\u001b[39m.__name\u001b[38;5;132;01m}\u001b[39;00m\u001b[33m, Age: \u001b[39m\u001b[38;5;132;01m{\u001b[39;00m\u001b[38;5;28mself\u001b[39m._age\u001b[38;5;132;01m}\u001b[39;00m\u001b[33m\"\u001b[39m)\n\u001b[32m      9\u001b[39m person1 = Person(\u001b[33m\"\u001b[39m\u001b[33mPham Thi D\u001b[39m\u001b[33m\"\u001b[39m, \u001b[32m30\u001b[39m)\n\u001b[32m---> \u001b[39m\u001b[32m10\u001b[39m \u001b[43mperson1\u001b[49m\u001b[43m.\u001b[49m\u001b[43m_Person__init__\u001b[49m(\u001b[33m\"\u001b[39m\u001b[33mPham Thi D\u001b[39m\u001b[33m\"\u001b[39m, \u001b[32m30\u001b[39m)  \u001b[38;5;66;03m# Accessing private method (not recommended)\u001b[39;00m\n\u001b[32m     11\u001b[39m \u001b[38;5;28mprint\u001b[39m(person1._age)  \u001b[38;5;66;03m# Accessing protected attribute (not recommended)\u001b[39;00m\n\u001b[32m     13\u001b[39m \u001b[38;5;66;03m# print(person1.__name)  # This will raise an AttributeError\u001b[39;00m\n",
      "\u001b[31mAttributeError\u001b[39m: 'Person' object has no attribute '_Person__init__'"
     ]
    }
   ],
   "source": [
    "class Person:\n",
    "    def __init__(self, name, age):\n",
    "        self.__name = name  # Private attribute\n",
    "        self._age = age    # Protected attribute\n",
    "    def __display(self):\n",
    "        print(f\"Name: {self.__name}, Age: {self._age}\")\n",
    "\n",
    "\n",
    "person1 = Person(\"Pham Thi D\", 30) # Accessing private method (not recommended)\n",
    "print(person1._age)  # Accessing protected attribute (not recommended)\n",
    "\n",
    "# print(person1.__name)  # This will raise an AttributeError\n",
    "person1._Person__name = \"New Name\"  # Modifying private attribute (not recommended)\n",
    "print(person1._Person__name)  # Accessing private attribute (not recommended) (access by name mangling)"
   ]
  },
  {
   "cell_type": "markdown",
   "id": "1df7be54",
   "metadata": {},
   "source": [
    "+ `_` and `__` name conventions:\n",
    "   - Single underscore (`_`) is a weak \"internal use\" indicator. It suggests that a variable or method is intended for internal use within a class or module.\n",
    "   - Double underscore (`__`) triggers name mangling, where the interpreter changes the name of the variable in a way that makes it harder to create subclasses that accidentally override the private attributes and methods."
   ]
  },
  {
   "cell_type": "markdown",
   "id": "28ef6f29",
   "metadata": {},
   "source": [
    "# Encapsulation"
   ]
  },
  {
   "cell_type": "code",
   "execution_count": 17,
   "id": "b0afe84f",
   "metadata": {},
   "outputs": [
    {
     "name": "stdout",
     "output_type": "stream",
     "text": [
      "150\n"
     ]
    }
   ],
   "source": [
    "class Wallet:\n",
    "    def __init__(self, balance):\n",
    "        self.__balance = balance  # Private attribute\n",
    "\n",
    "    def deposit(self, amount):\n",
    "        self.__balance += amount\n",
    "\n",
    "    def get_balance(self):\n",
    "        return self.__balance\n",
    "    \n",
    "\n",
    "wallet = Wallet(100)\n",
    "wallet.deposit(50)\n",
    "print(wallet.get_balance())  # Outputs: 150"
   ]
  },
  {
   "cell_type": "markdown",
   "id": "dbf38db0",
   "metadata": {},
   "source": [
    "# Polymorphism"
   ]
  },
  {
   "cell_type": "code",
   "execution_count": null,
   "id": "d1814fef",
   "metadata": {},
   "outputs": [
    {
     "name": "stdout",
     "output_type": "stream",
     "text": [
      "Le Van C is studying Computer Science.\n",
      "Hoang Thi E is studying Marketing.\n"
     ]
    }
   ],
   "source": [
    "class student:\n",
    "    \n",
    "    def __init__(self, name, age):\n",
    "        self.name = name\n",
    "        self.age = age\n",
    "\n",
    "    def study(self):\n",
    "        print(f\"{self.name} is studying.\")\n",
    "\n",
    "\n",
    "class it_student(student):\n",
    "    def __init__(self, name, age, major):\n",
    "        super().__init__(name, age)\n",
    "        self.major = major\n",
    "\n",
    "    def study(self):\n",
    "        print(f\"{self.name} is studying {self.major}.\")\n",
    "\n",
    "class business_student(student):\n",
    "    def __init__(self, name, age, focus):\n",
    "        super().__init__(name, age)\n",
    "        self.focus = focus\n",
    "\n",
    "    def study(self):\n",
    "        print(f\"{self.name} is studying {self.focus}.\")\n",
    "\n",
    "\n",
    "it_student1 = it_student(\"Le Van C\", 21, \"Computer Science\")\n",
    "business_student1 = business_student(\"Hoang Thi E\", 23, \"Marketing\")\n",
    "students = [it_student1, business_student1]\n",
    "for s in students:\n",
    "    s.study()"
   ]
  },
  {
   "cell_type": "markdown",
   "id": "47f4f09c",
   "metadata": {},
   "source": [
    "# Abstraction"
   ]
  },
  {
   "cell_type": "code",
   "execution_count": 24,
   "id": "143ceec0",
   "metadata": {},
   "outputs": [
    {
     "name": "stdout",
     "output_type": "stream",
     "text": [
      "Woof!\n",
      "Meow!\n"
     ]
    }
   ],
   "source": [
    "from abc import ABC, abstractmethod\n",
    "\n",
    "class Animal(ABC):\n",
    "    @abstractmethod\n",
    "    def sound(self):\n",
    "        pass\n",
    "\n",
    "class Dog(Animal):\n",
    "    def sound(self):\n",
    "        print(\"Woof!\")\n",
    "\n",
    "class Cat(Animal):\n",
    "    def sound(self):\n",
    "        print(\"Meow!\")\n",
    "\n",
    "\n",
    "dog = Dog()\n",
    "cat = Cat()\n",
    "dog.sound()\n",
    "cat.sound()"
   ]
  }
 ],
 "metadata": {
  "kernelspec": {
   "display_name": "base",
   "language": "python",
   "name": "python3"
  },
  "language_info": {
   "codemirror_mode": {
    "name": "ipython",
    "version": 3
   },
   "file_extension": ".py",
   "mimetype": "text/x-python",
   "name": "python",
   "nbconvert_exporter": "python",
   "pygments_lexer": "ipython3",
   "version": "3.13.5"
  }
 },
 "nbformat": 4,
 "nbformat_minor": 5
}
