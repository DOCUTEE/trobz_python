{
 "cells": [
  {
   "cell_type": "markdown",
   "id": "9e6ed467",
   "metadata": {},
   "source": [
    "# Exam 2"
   ]
  },
  {
   "cell_type": "markdown",
   "id": "6fb1041e",
   "metadata": {},
   "source": [
    "## Exercise 1"
   ]
  },
  {
   "cell_type": "markdown",
   "id": "0120739c",
   "metadata": {},
   "source": [
    "- Write a Python class named Circle constructed by a radius and two methods which will compute the area and the perimeter of a circle."
   ]
  },
  {
   "cell_type": "code",
   "execution_count": 46,
   "id": "3026b793",
   "metadata": {},
   "outputs": [
    {
     "name": "stdout",
     "output_type": "stream",
     "text": [
      "50.24\n",
      "25.12\n"
     ]
    }
   ],
   "source": [
    "class Circle:\n",
    "    def __init__(self, radius):\n",
    "        self.radius = radius\n",
    "        self.PI = 3.14\n",
    "    \n",
    "    def area(self):\n",
    "        return self.PI * self.radius**2\n",
    "    \n",
    "    def perimeter(self):\n",
    "        return 2*self.PI* self.radius\n",
    "\n",
    "cir = Circle(4)\n",
    "\n",
    "print(cir.area())\n",
    "print(cir.perimeter())"
   ]
  },
  {
   "cell_type": "markdown",
   "id": "48ede5b8",
   "metadata": {},
   "source": [
    "## Exercise 2\n",
    "- Write a Python class named Rectangle constructed by a length and width and a method which will compute the area of a rectangle\n"
   ]
  },
  {
   "cell_type": "code",
   "execution_count": 47,
   "id": "699d84d6",
   "metadata": {},
   "outputs": [
    {
     "name": "stdout",
     "output_type": "stream",
     "text": [
      "20\n"
     ]
    }
   ],
   "source": [
    "class Rectangle:\n",
    "    def __init__(self, length, width):\n",
    "        self.length = length\n",
    "        self.width = width\n",
    "\n",
    "    def area(self):\n",
    "        return self.length * self.width\n",
    "    \n",
    "rec = Rectangle(4,5)\n",
    "print(rec.area())"
   ]
  },
  {
   "cell_type": "markdown",
   "id": "419d9645",
   "metadata": {},
   "source": [
    "## Exercise 3\n",
    "- Define a class named Shape and its subclass Square. The Square class has an init function which takes a length as argument. Both classes have an area function which can print the area of the shape where Shape's area is 0 by default.\n"
   ]
  },
  {
   "cell_type": "code",
   "execution_count": 48,
   "id": "f887856b",
   "metadata": {},
   "outputs": [
    {
     "name": "stdout",
     "output_type": "stream",
     "text": [
      "Area:  0\n",
      "Area:  16\n"
     ]
    }
   ],
   "source": [
    "class Shape:\n",
    "    def area(self):\n",
    "        print('Area: ', 0)\n",
    "\n",
    "class Square(Shape):\n",
    "    def __init__(self, length):\n",
    "        super().__init__()\n",
    "        self.length = length\n",
    "    \n",
    "    def area(self):\n",
    "        print('Area: ', self.length * self.length)\n",
    "\n",
    "shape = Shape()\n",
    "square = Square(4)\n",
    "\n",
    "shape.area()\n",
    "square.area()\n"
   ]
  },
  {
   "cell_type": "markdown",
   "id": "1409d426",
   "metadata": {},
   "source": [
    "## Exercise 4\n",
    "- Define a class Person and its two child classes: Male and Female. All classes have a method \"getGender\" which can print \"Male\" for Male class and \"Female\" for Female class.\n"
   ]
  },
  {
   "cell_type": "code",
   "execution_count": 49,
   "id": "02ee0cba",
   "metadata": {},
   "outputs": [
    {
     "name": "stdout",
     "output_type": "stream",
     "text": [
      "Male\n",
      "Female\n"
     ]
    }
   ],
   "source": [
    "class Person:\n",
    "    def getGender(self):\n",
    "        pass\n",
    "\n",
    "class Male(Person):\n",
    "    def getGender(self):\n",
    "        print(\"Male\")\n",
    "\n",
    "class Female(Person):\n",
    "    def getGender(self):\n",
    "        print(\"Female\")\n",
    "\n",
    "male = Male()\n",
    "male.getGender()\n",
    "\n",
    "female = Female()\n",
    "female.getGender()\n"
   ]
  },
  {
   "cell_type": "markdown",
   "id": "f300c6b0",
   "metadata": {},
   "source": [
    "## Exercise 5\n",
    "- Define a class which has at least two methods:\n",
    "getString: to get a string from console input\n",
    "printString: to print the string in upper case.\n"
   ]
  },
  {
   "cell_type": "code",
   "execution_count": 2,
   "id": "f0cd7f01",
   "metadata": {},
   "outputs": [
    {
     "name": "stdout",
     "output_type": "stream",
     "text": [
      "QUANG\n"
     ]
    }
   ],
   "source": [
    "class InputOutput:\n",
    "    def getString(self):\n",
    "\n",
    "        user_input = input(\"Enter a string: \")\n",
    "        return user_input\n",
    "    \n",
    "    def printString(self, user_input):\n",
    "        print(user_input.upper())\n",
    "\n",
    "\n",
    "inputt = InputOutput()\n",
    "\n",
    "inputt.printString(inputt.getString())\n",
    "\n",
    "# io.printString()"
   ]
  },
  {
   "cell_type": "code",
   "execution_count": null,
   "id": "2d5e538f",
   "metadata": {},
   "outputs": [],
   "source": []
  },
  {
   "cell_type": "markdown",
   "id": "73c0fc36",
   "metadata": {},
   "source": [
    "## Exercise 6\n",
    "- Create a deck of cards class. Internally, the deck of cards should use another class, a card class. Your requirements are:\n",
    "\n",
    "- The Deck class should have a deal method to deal a single card from the deck\n",
    "- After a card is dealt, it is removed from the deck.\n",
    "There should be a shuffle method which makes sure the deck of cards has all 52 cards and then rearranges them randomly. (Use shuffle of random)\n",
    "- The Card class should have a suit (Hearts, Diamonds, Clubs and Spades) and a value (A,2,3,4,5,6,7,8,9,10,J,Q,K)\n"
   ]
  },
  {
   "cell_type": "code",
   "execution_count": 60,
   "id": "2b4e1da2",
   "metadata": {},
   "outputs": [],
   "source": [
    "class Card:\n",
    "    def __init__(self, suit, value):\n",
    "        self.value = value\n",
    "        self.suit = suit\n",
    "    \n",
    "    def info(self):\n",
    "        information = f\"This card is the {self.value} of {self.suit}\"\n",
    "        return information\n",
    "    \n",
    "    def __repr__(self):\n",
    "        return f\"(value: {self.value}, suit: {self.suit})\"\n",
    "\n",
    "class Deck:\n",
    "    def __init__(self):\n",
    "        self.list_of_cards = []\n",
    "        self.reset() \n",
    "\n",
    "    \n",
    "    def reset(self):\n",
    "        self.list_of_cards = []\n",
    "        values = ['A','2','3','4','5','6','7','8','9','10','J','Q','K']\n",
    "        suits = ['Hearts', 'Diamonds', 'Clubs', 'Spades']\n",
    "        self.list_of_cards = [Card(value, suit) for value in values for suit in suits]\n",
    "        print(\"The deck is reset\")\n",
    "\n",
    "\n",
    "    def shuffle(self):     \n",
    "        import random\n",
    "        if len(self.list_of_cards) != 52:\n",
    "            print(\"The deck is not complete!\")\n",
    "            return\n",
    "        random.shuffle(self.list_of_cards)\n",
    "        self.deck_info()\n",
    "\n",
    "    def deal(self):\n",
    "        if (len(self.list_of_cards) <= 0):\n",
    "            print(\"The deck is empty\")\n",
    "            \n",
    "            if (self.is_again()):\n",
    "                self.reset()\n",
    "            \n",
    "            return\n",
    "\n",
    "        out_card = self.list_of_cards.pop()\n",
    "        print(f\"The deck have {len(self.list_of_cards)} cards left.\")\n",
    "        print(out_card.info())\n",
    "\n",
    "    def is_again(self):\n",
    "        answer = input(\"Do you want to initlize the deck ? Type [yes] to continue\")\n",
    "        \n",
    "        if (answer.lower() == 'yes'):\n",
    "            return True\n",
    "        \n",
    "        return False\n",
    "    \n",
    "    def deck_info(self):\n",
    "        print(f\"The deck have {len(self.list_of_cards)} cards left.\")\n",
    "        print(self.list_of_cards)\n"
   ]
  },
  {
   "cell_type": "markdown",
   "id": "591ce9fb",
   "metadata": {},
   "source": [
    "### Demo Deal cards"
   ]
  },
  {
   "cell_type": "markdown",
   "id": "39c8722b",
   "metadata": {},
   "source": [
    "### Khoi tao bo bai"
   ]
  },
  {
   "cell_type": "code",
   "execution_count": 61,
   "id": "2a320a40",
   "metadata": {},
   "outputs": [
    {
     "name": "stdout",
     "output_type": "stream",
     "text": [
      "The deck is reset\n"
     ]
    }
   ],
   "source": [
    "deck = Deck()"
   ]
  },
  {
   "cell_type": "markdown",
   "id": "75c9d7e0",
   "metadata": {},
   "source": [
    "### In ra thong tin bo bai"
   ]
  },
  {
   "cell_type": "code",
   "execution_count": 62,
   "id": "25970b37",
   "metadata": {},
   "outputs": [
    {
     "name": "stdout",
     "output_type": "stream",
     "text": [
      "The deck have 52 cards left.\n",
      "[(value: Hearts, suit: A), (value: Diamonds, suit: A), (value: Clubs, suit: A), (value: Spades, suit: A), (value: Hearts, suit: 2), (value: Diamonds, suit: 2), (value: Clubs, suit: 2), (value: Spades, suit: 2), (value: Hearts, suit: 3), (value: Diamonds, suit: 3), (value: Clubs, suit: 3), (value: Spades, suit: 3), (value: Hearts, suit: 4), (value: Diamonds, suit: 4), (value: Clubs, suit: 4), (value: Spades, suit: 4), (value: Hearts, suit: 5), (value: Diamonds, suit: 5), (value: Clubs, suit: 5), (value: Spades, suit: 5), (value: Hearts, suit: 6), (value: Diamonds, suit: 6), (value: Clubs, suit: 6), (value: Spades, suit: 6), (value: Hearts, suit: 7), (value: Diamonds, suit: 7), (value: Clubs, suit: 7), (value: Spades, suit: 7), (value: Hearts, suit: 8), (value: Diamonds, suit: 8), (value: Clubs, suit: 8), (value: Spades, suit: 8), (value: Hearts, suit: 9), (value: Diamonds, suit: 9), (value: Clubs, suit: 9), (value: Spades, suit: 9), (value: Hearts, suit: 10), (value: Diamonds, suit: 10), (value: Clubs, suit: 10), (value: Spades, suit: 10), (value: Hearts, suit: J), (value: Diamonds, suit: J), (value: Clubs, suit: J), (value: Spades, suit: J), (value: Hearts, suit: Q), (value: Diamonds, suit: Q), (value: Clubs, suit: Q), (value: Spades, suit: Q), (value: Hearts, suit: K), (value: Diamonds, suit: K), (value: Clubs, suit: K), (value: Spades, suit: K)]\n"
     ]
    }
   ],
   "source": [
    "deck.deck_info()"
   ]
  },
  {
   "cell_type": "markdown",
   "id": "59f3614f",
   "metadata": {},
   "source": [
    "### Xao tron bo bai"
   ]
  },
  {
   "cell_type": "code",
   "execution_count": 54,
   "id": "b631fcea",
   "metadata": {},
   "outputs": [
    {
     "name": "stdout",
     "output_type": "stream",
     "text": [
      "The deck have 52 cards left.\n",
      "[(value: Diamonds, suit: Q), (value: Diamonds, suit: 4), (value: Clubs, suit: 5), (value: Clubs, suit: 4), (value: Clubs, suit: 9), (value: Spades, suit: 6), (value: Hearts, suit: 2), (value: Diamonds, suit: 2), (value: Diamonds, suit: 6), (value: Hearts, suit: A), (value: Hearts, suit: 5), (value: Spades, suit: 7), (value: Spades, suit: 4), (value: Spades, suit: 10), (value: Diamonds, suit: 8), (value: Diamonds, suit: K), (value: Clubs, suit: Q), (value: Hearts, suit: 3), (value: Diamonds, suit: A), (value: Clubs, suit: 3), (value: Spades, suit: J), (value: Diamonds, suit: 5), (value: Diamonds, suit: 3), (value: Diamonds, suit: 7), (value: Spades, suit: 2), (value: Clubs, suit: 7), (value: Spades, suit: 3), (value: Hearts, suit: 4), (value: Hearts, suit: J), (value: Spades, suit: Q), (value: Clubs, suit: K), (value: Hearts, suit: Q), (value: Diamonds, suit: 9), (value: Hearts, suit: K), (value: Diamonds, suit: J), (value: Hearts, suit: 10), (value: Spades, suit: A), (value: Clubs, suit: 6), (value: Clubs, suit: J), (value: Hearts, suit: 9), (value: Clubs, suit: 8), (value: Clubs, suit: 2), (value: Spades, suit: 8), (value: Hearts, suit: 8), (value: Diamonds, suit: 10), (value: Hearts, suit: 7), (value: Clubs, suit: A), (value: Hearts, suit: 6), (value: Clubs, suit: 10), (value: Spades, suit: 5), (value: Spades, suit: K), (value: Spades, suit: 9)]\n"
     ]
    }
   ],
   "source": [
    "deck.shuffle()"
   ]
  },
  {
   "cell_type": "markdown",
   "id": "b5a5aac3",
   "metadata": {},
   "source": [
    "### Phat bai"
   ]
  },
  {
   "cell_type": "code",
   "execution_count": 63,
   "id": "672b319a",
   "metadata": {},
   "outputs": [
    {
     "name": "stdout",
     "output_type": "stream",
     "text": [
      "The deck have 51 cards left.\n",
      "This card is the Spades of K\n",
      "The deck have 50 cards left.\n",
      "This card is the Clubs of K\n",
      "The deck have 49 cards left.\n",
      "This card is the Diamonds of K\n",
      "The deck have 48 cards left.\n",
      "This card is the Hearts of K\n",
      "The deck have 47 cards left.\n",
      "This card is the Spades of Q\n",
      "The deck have 46 cards left.\n",
      "This card is the Clubs of Q\n",
      "The deck have 45 cards left.\n",
      "This card is the Diamonds of Q\n",
      "The deck have 44 cards left.\n",
      "This card is the Hearts of Q\n",
      "The deck have 43 cards left.\n",
      "This card is the Spades of J\n",
      "The deck have 42 cards left.\n",
      "This card is the Clubs of J\n",
      "The deck have 41 cards left.\n",
      "This card is the Diamonds of J\n",
      "The deck have 40 cards left.\n",
      "This card is the Hearts of J\n",
      "The deck have 39 cards left.\n",
      "This card is the Spades of 10\n",
      "The deck have 38 cards left.\n",
      "This card is the Clubs of 10\n",
      "The deck have 37 cards left.\n",
      "This card is the Diamonds of 10\n",
      "The deck have 36 cards left.\n",
      "This card is the Hearts of 10\n",
      "The deck have 35 cards left.\n",
      "This card is the Spades of 9\n",
      "The deck have 34 cards left.\n",
      "This card is the Clubs of 9\n",
      "The deck have 33 cards left.\n",
      "This card is the Diamonds of 9\n",
      "The deck have 32 cards left.\n",
      "This card is the Hearts of 9\n",
      "The deck have 31 cards left.\n",
      "This card is the Spades of 8\n",
      "The deck have 30 cards left.\n",
      "This card is the Clubs of 8\n",
      "The deck have 29 cards left.\n",
      "This card is the Diamonds of 8\n",
      "The deck have 28 cards left.\n",
      "This card is the Hearts of 8\n",
      "The deck have 27 cards left.\n",
      "This card is the Spades of 7\n",
      "The deck have 26 cards left.\n",
      "This card is the Clubs of 7\n",
      "The deck have 25 cards left.\n",
      "This card is the Diamonds of 7\n",
      "The deck have 24 cards left.\n",
      "This card is the Hearts of 7\n",
      "The deck have 23 cards left.\n",
      "This card is the Spades of 6\n",
      "The deck have 22 cards left.\n",
      "This card is the Clubs of 6\n",
      "The deck have 21 cards left.\n",
      "This card is the Diamonds of 6\n",
      "The deck have 20 cards left.\n",
      "This card is the Hearts of 6\n",
      "The deck have 19 cards left.\n",
      "This card is the Spades of 5\n",
      "The deck have 18 cards left.\n",
      "This card is the Clubs of 5\n",
      "The deck have 17 cards left.\n",
      "This card is the Diamonds of 5\n",
      "The deck have 16 cards left.\n",
      "This card is the Hearts of 5\n",
      "The deck have 15 cards left.\n",
      "This card is the Spades of 4\n",
      "The deck have 14 cards left.\n",
      "This card is the Clubs of 4\n",
      "The deck have 13 cards left.\n",
      "This card is the Diamonds of 4\n",
      "The deck have 12 cards left.\n",
      "This card is the Hearts of 4\n",
      "The deck have 11 cards left.\n",
      "This card is the Spades of 3\n",
      "The deck have 10 cards left.\n",
      "This card is the Clubs of 3\n",
      "The deck have 9 cards left.\n",
      "This card is the Diamonds of 3\n",
      "The deck have 8 cards left.\n",
      "This card is the Hearts of 3\n",
      "The deck have 7 cards left.\n",
      "This card is the Spades of 2\n",
      "The deck have 6 cards left.\n",
      "This card is the Clubs of 2\n",
      "The deck have 5 cards left.\n",
      "This card is the Diamonds of 2\n",
      "The deck have 4 cards left.\n",
      "This card is the Hearts of 2\n",
      "The deck have 3 cards left.\n",
      "This card is the Spades of A\n",
      "The deck have 2 cards left.\n",
      "This card is the Clubs of A\n",
      "The deck have 1 cards left.\n",
      "This card is the Diamonds of A\n",
      "The deck have 0 cards left.\n",
      "This card is the Hearts of A\n"
     ]
    }
   ],
   "source": [
    "import time\n",
    "for i in range(0,52):\n",
    "    deck.deal()\n",
    "    time.sleep(0.2)"
   ]
  },
  {
   "cell_type": "markdown",
   "id": "5487104a",
   "metadata": {},
   "source": [
    "### Demo Het bai"
   ]
  },
  {
   "cell_type": "code",
   "execution_count": 64,
   "id": "2c3b646c",
   "metadata": {},
   "outputs": [
    {
     "name": "stdout",
     "output_type": "stream",
     "text": [
      "The deck is empty\n",
      "The deck is reset\n"
     ]
    }
   ],
   "source": [
    "deck.deal()"
   ]
  }
 ],
 "metadata": {
  "kernelspec": {
   "display_name": "base",
   "language": "python",
   "name": "python3"
  },
  "language_info": {
   "codemirror_mode": {
    "name": "ipython",
    "version": 3
   },
   "file_extension": ".py",
   "mimetype": "text/x-python",
   "name": "python",
   "nbconvert_exporter": "python",
   "pygments_lexer": "ipython3",
   "version": "3.13.5"
  }
 },
 "nbformat": 4,
 "nbformat_minor": 5
}
