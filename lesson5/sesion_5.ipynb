{
 "cells": [
  {
   "cell_type": "markdown",
   "id": "a2f0fcac",
   "metadata": {},
   "source": [
    "# Test Immutable and Mutable Types"
   ]
  },
  {
   "cell_type": "code",
   "execution_count": 1,
   "id": "71d3f872",
   "metadata": {},
   "outputs": [
    {
     "name": "stdout",
     "output_type": "stream",
     "text": [
      "136159167970736\n",
      "136159168088368\n"
     ]
    }
   ],
   "source": [
    "# String is an immutable type in Python.\n",
    "s = \"Hello\"\n",
    "print(id(s))\n",
    "\n",
    "s += \" World\"\n",
    "print(id(s))"
   ]
  },
  {
   "cell_type": "code",
   "execution_count": 2,
   "id": "72784dad",
   "metadata": {},
   "outputs": [
    {
     "name": "stdout",
     "output_type": "stream",
     "text": [
      "136159168098048\n",
      "136159168098048\n"
     ]
    }
   ],
   "source": [
    "# List is a mutable type in Python.\n",
    "\n",
    "list_a = [1, 2, 3]\n",
    "print(id(list_a))\n",
    "list_a.append(4)\n",
    "\n",
    "list_a[0] = 10  \n",
    "print(id(list_a))"
   ]
  },
  {
   "cell_type": "code",
   "execution_count": 3,
   "id": "88f7e296",
   "metadata": {},
   "outputs": [
    {
     "name": "stdout",
     "output_type": "stream",
     "text": [
      "136159168033408\n",
      "(1, 2, 3, 4, 2, 'ok')\n",
      "136159586163424\n"
     ]
    }
   ],
   "source": [
    "# Tuple is an immutable type in Python.\n",
    "\n",
    "point_a = (1, 2, 3)\n",
    "print(id(point_a))\n",
    "point_a = point_a + (4,2,\"ok\")\n",
    "\n",
    "print(point_a)\n",
    "print(id(point_a))"
   ]
  },
  {
   "cell_type": "code",
   "execution_count": 4,
   "id": "cdf3fe13",
   "metadata": {},
   "outputs": [
    {
     "name": "stdout",
     "output_type": "stream",
     "text": [
      "136159168089600\n",
      "136159168089600\n"
     ]
    }
   ],
   "source": [
    "# Dictionary is a mutable type in Python.\n",
    "dict_a = {\n",
    "    'name' : 'Alice',\n",
    "    'age' : 30,\n",
    "    'city' : 'New York'\n",
    "}\n",
    "print(id(dict_a))\n",
    "\n",
    "dict_a['age'] = 31\n",
    "\n",
    "print(id(dict_a))\n"
   ]
  },
  {
   "cell_type": "code",
   "execution_count": 5,
   "id": "7c0139a1",
   "metadata": {},
   "outputs": [],
   "source": [
    "def show_address(elem):\n",
    "    return id(elem)"
   ]
  },
  {
   "cell_type": "code",
   "execution_count": 6,
   "id": "a18c302c",
   "metadata": {},
   "outputs": [
    {
     "name": "stdout",
     "output_type": "stream",
     "text": [
      "Is element have the same address? True\n",
      "Is element have the same address? True\n",
      "Is element have the same address? True\n",
      "Is element have the same address? True\n"
     ]
    }
   ],
   "source": [
    "# Check if the addresses are the same\n",
    "print(\"Is element have the same address?\", id(list_a) == show_address(list_a))\n",
    "print(\"Is element have the same address?\", id(point_a) == show_address(point_a))\n",
    "print(\"Is element have the same address?\", id(dict_a) == show_address(dict_a))\n",
    "print(\"Is element have the same address?\", id(s) == show_address(s))\n"
   ]
  },
  {
   "cell_type": "code",
   "execution_count": 7,
   "id": "a053cd05",
   "metadata": {},
   "outputs": [
    {
     "name": "stdout",
     "output_type": "stream",
     "text": [
      "{(0, 0): 'center', 'good_point': True}\n"
     ]
    }
   ],
   "source": [
    "# indexed by \n",
    "\n",
    "# use tuple as a key\n",
    "dict_b = {\n",
    "    (0,0):\"center\",\n",
    "    \"good_point\": True\n",
    "}\n",
    "\n",
    "print(dict_b)"
   ]
  },
  {
   "cell_type": "markdown",
   "id": "0413a642",
   "metadata": {},
   "source": [
    "# Test Operator"
   ]
  },
  {
   "cell_type": "markdown",
   "id": "0f851594",
   "metadata": {},
   "source": [
    "## String"
   ]
  },
  {
   "cell_type": "code",
   "execution_count": 8,
   "id": "742f5288",
   "metadata": {},
   "outputs": [
    {
     "name": "stdout",
     "output_type": "stream",
     "text": [
      "HelloHelloHelloHello\n"
     ]
    }
   ],
   "source": [
    "mail =(4*\"Hello\")\n",
    "print(mail)\n"
   ]
  },
  {
   "cell_type": "markdown",
   "id": "f96e85f1",
   "metadata": {},
   "source": [
    "## List"
   ]
  },
  {
   "cell_type": "code",
   "execution_count": 9,
   "id": "96e958e1",
   "metadata": {},
   "outputs": [
    {
     "name": "stdout",
     "output_type": "stream",
     "text": [
      "['Nam Hy', 'Vinh Tuong', 'Quoc Huy', 'Quoc Thinh', 'Minh Quang', 'Nam Hy', 'Vinh Tuong', 'Quoc Huy', 'Quoc Thinh', 'Minh Quang']\n"
     ]
    }
   ],
   "source": [
    "friends = ['Nam Hy', 'Vinh Tuong', 'Quoc Huy', 'Quoc Thinh']\n",
    "\n",
    "friends += [\"Minh Quang\"]\n",
    "\n",
    "friends *= 1+1\n",
    "\n",
    "print(friends)\n",
    "\n"
   ]
  },
  {
   "cell_type": "markdown",
   "id": "1ad04781",
   "metadata": {},
   "source": [
    "# Tuple"
   ]
  },
  {
   "cell_type": "code",
   "execution_count": 10,
   "id": "89c418fd",
   "metadata": {},
   "outputs": [
    {
     "name": "stdout",
     "output_type": "stream",
     "text": [
      "136159168028032\n",
      "136159167992144\n",
      "(1, 2, 3, 1, 2, 3, 1, 2, 3, 1, 2)\n"
     ]
    }
   ],
   "source": [
    "point_b = (1,2,3)\n",
    "\n",
    "print(id(point_b))\n",
    "point_b *= 3\n",
    "print(id(point_b))\n",
    "\n",
    "point_b += (1,2)\n",
    "print(point_b)"
   ]
  },
  {
   "cell_type": "markdown",
   "id": "7493e51a",
   "metadata": {},
   "source": [
    "## Dictionary hasn't + and * operator"
   ]
  },
  {
   "cell_type": "markdown",
   "id": "78331ea9",
   "metadata": {},
   "source": [
    "# `in` operator\n",
    "\n",
    "```python"
   ]
  },
  {
   "cell_type": "markdown",
   "id": "53bac1e4",
   "metadata": {},
   "source": [
    "## String"
   ]
  },
  {
   "cell_type": "code",
   "execution_count": 11,
   "id": "fbf5f235",
   "metadata": {},
   "outputs": [
    {
     "name": "stdout",
     "output_type": "stream",
     "text": [
      "True\n",
      "False\n"
     ]
    }
   ],
   "source": [
    "name = \"Nguyen Thi Phuong Ngan\"\n",
    "print('Nguyen' in name)\n",
    "print('Nguyen Minh' in name)"
   ]
  },
  {
   "cell_type": "markdown",
   "id": "534ca8e1",
   "metadata": {},
   "source": [
    "## List"
   ]
  },
  {
   "cell_type": "code",
   "execution_count": 12,
   "id": "f447901d",
   "metadata": {},
   "outputs": [
    {
     "name": "stdout",
     "output_type": "stream",
     "text": [
      "True\n",
      "False\n"
     ]
    }
   ],
   "source": [
    "list_ids = [-123,123,3432,3423]\n",
    "\n",
    "print(-123 in list_ids)\n",
    "print(12 in list_ids)"
   ]
  },
  {
   "cell_type": "markdown",
   "id": "5708a2a0",
   "metadata": {},
   "source": [
    "## Tuple"
   ]
  },
  {
   "cell_type": "code",
   "execution_count": 13,
   "id": "33f444d1",
   "metadata": {},
   "outputs": [
    {
     "name": "stdout",
     "output_type": "stream",
     "text": [
      "True\n",
      "False\n"
     ]
    }
   ],
   "source": [
    "point_c = (1,2,3,4,5,6)\n",
    "print(1 in point_c)\n",
    "print(10 in point_c)\n",
    "\n"
   ]
  },
  {
   "cell_type": "code",
   "execution_count": 14,
   "id": "829b4d97",
   "metadata": {},
   "outputs": [
    {
     "name": "stdout",
     "output_type": "stream",
     "text": [
      "dict_values([{'age': 20, 'address': 'Hue', 'grades': [8, 9, 10]}, {'age': 21, 'address': 'Hanoi', 'grades': [7, 8, 9], 'social_media': {'facebook': 'nguyenminhquang', 'twitter': 'nguyenminhquang'}}])\n"
     ]
    }
   ],
   "source": [
    "students = {\n",
    "    \"Nguyen Thi Phuong Ngan\": {\n",
    "        \"age\": 20,\n",
    "        \"address\": \"Hue\",\n",
    "        \"grades\": [8, 9, 10]\n",
    "    },\n",
    "    \"Nguyen Minh Quang\": {\n",
    "        \"age\": 21,\n",
    "        \"address\": \"Hanoi\",\n",
    "        \"grades\": [7, 8, 9],\n",
    "        \"social_media\": {\n",
    "            \"facebook\": \"nguyenminhquang\",\n",
    "            \"twitter\": \"nguyenminhquang\"\n",
    "        }\n",
    "    }\n",
    "}\n",
    "\n",
    "print(students.values())\n"
   ]
  },
  {
   "cell_type": "markdown",
   "id": "14c6d629",
   "metadata": {},
   "source": [
    "# Indexing"
   ]
  },
  {
   "cell_type": "code",
   "execution_count": 15,
   "id": "ef0ba8e6",
   "metadata": {},
   "outputs": [
    {
     "name": "stdout",
     "output_type": "stream",
     "text": [
      "Index 0 has value P\n",
      "Index 1 has value y\n",
      "Index 2 has value t\n",
      "Index 3 has value h\n",
      "Index 4 has value o\n",
      "Index 5 has value n\n",
      "Index -6 has value P\n",
      "Index -5 has value y\n",
      "Index -4 has value t\n",
      "Index -3 has value h\n",
      "Index -2 has value o\n",
      "Index -1 has value n\n"
     ]
    }
   ],
   "source": [
    "list_python = ['P', 'y', 't', 'h', 'o', 'n']\n",
    "for i in range(len(list_python)):\n",
    "    print(f\"Index {i} has value {list_python[i]}\")\n",
    "\n",
    "for i in range(-6, 0):\n",
    "    print(f\"Index {i} has value {list_python[i]}\")"
   ]
  },
  {
   "cell_type": "markdown",
   "id": "7ecb8f8b",
   "metadata": {},
   "source": [
    "# Slicing\n",
    "\n",
    "## S[start:end:step]\n"
   ]
  },
  {
   "cell_type": "code",
   "execution_count": 30,
   "id": "bca1d86d",
   "metadata": {},
   "outputs": [
    {
     "name": "stdout",
     "output_type": "stream",
     "text": [
      "Python\n",
      "nohtyP\n",
      "Pytho\n"
     ]
    }
   ],
   "source": [
    "S = \"Python\"\n",
    "print(S[0:6]) \n",
    "print(S[-1:-7:-1])  \n",
    "print(S[-6:5]) "
   ]
  },
  {
   "cell_type": "markdown",
   "id": "c5633464",
   "metadata": {},
   "source": [
    "# String"
   ]
  },
  {
   "cell_type": "code",
   "execution_count": 17,
   "id": "9803f1fa",
   "metadata": {},
   "outputs": [
    {
     "name": "stdout",
     "output_type": "stream",
     "text": [
      "False\n",
      "True\n"
     ]
    }
   ],
   "source": [
    "string_A = \"aa\"\n",
    "string_B = \"a\"\n",
    "\n",
    "print(string_A == string_B)\n",
    "print(string_A > string_B)"
   ]
  },
  {
   "cell_type": "markdown",
   "id": "a86f08ae",
   "metadata": {},
   "source": [
    "## String methods"
   ]
  },
  {
   "cell_type": "code",
   "execution_count": null,
   "id": "df4476bc",
   "metadata": {},
   "outputs": [
    {
     "name": "stdout",
     "output_type": "stream",
     "text": [
      "22\n",
      "guyen Thi Phuong Nga\n",
      "NGUYEN THI PHUONG NGAN\n",
      "nguyen thi phuong ngan\n",
      "11\n",
      "-1\n",
      "['', 'guye', ' Thi Phuo', 'g Nga', '']\n",
      "nguyen Thi Phuong Ngan********\n",
      "******************nguyen Thi Phuong Ngan\n",
      "nguyen Thi Ngan Ngan\n",
      "@\n",
      "Kien Kim Khoi\n"
     ]
    }
   ],
   "source": [
    "name = \"nguyen Thi Phuong Ngan\"\n",
    "print(len(name))\n",
    "print(name.strip('n'))\n",
    "print(name.upper())\n",
    "print(name.lower())\n",
    "print(name.find('Phuong'))\n",
    "print(name.find('Ok'))\n",
    "print(name.split('n'))\n",
    "print(name.ljust(30, '*'))\n",
    "print(name.rjust(40, '*'))\n",
    "print(name.replace('Phuong', 'Ngan'))\n",
    "\n",
    "s = \"@\"\n",
    "print(s.lower())\n",
    "\n",
    "\n",
    "s = \"kien kim khoi\"\n",
    "\n",
    "l = []\n",
    "for word in s.split(' '):\n",
    "    word = word[0].upper() + word[1:len(word)]\n",
    "    l.append(word)\n",
    "\n",
    "print(\" \".join(l))\n",
    "\n",
    "\n"
   ]
  },
  {
   "cell_type": "markdown",
   "id": "a147e07f",
   "metadata": {},
   "source": [
    "# List"
   ]
  },
  {
   "cell_type": "code",
   "execution_count": 19,
   "id": "e02c736b",
   "metadata": {},
   "outputs": [
    {
     "name": "stdout",
     "output_type": "stream",
     "text": [
      "136159168241152\n",
      "136159168241152\n",
      "['casefold', 'center', 'count']\n"
     ]
    }
   ],
   "source": [
    "list_functions = [\n",
    "    \"capitalize\",\n",
    "    \"casefold\",\n",
    "    \"center\",\n",
    "    \"count\"\n",
    "]\n",
    " \n",
    "print(id(list_functions))\n",
    "\n",
    "del list_functions[0]\n",
    "\n",
    "print(id(list_functions))\n",
    "print(list_functions)  # This will raise an error since list_functions is deleted"
   ]
  },
  {
   "cell_type": "code",
   "execution_count": null,
   "id": "0cd23b8c",
   "metadata": {},
   "outputs": [
    {
     "name": "stdout",
     "output_type": "stream",
     "text": [
      "[1, 2, 1, 2]\n",
      "[1, 2, 1, 2]\n",
      "False\n",
      "4\n"
     ]
    },
    {
     "ename": "IndexError",
     "evalue": "pop from empty list",
     "output_type": "error",
     "traceback": [
      "\u001b[31m---------------------------------------------------------------------------\u001b[39m",
      "\u001b[31mIndexError\u001b[39m                                Traceback (most recent call last)",
      "\u001b[36mCell\u001b[39m\u001b[36m \u001b[39m\u001b[32mIn[39]\u001b[39m\u001b[32m, line 15\u001b[39m\n\u001b[32m     12\u001b[39m \u001b[38;5;28mprint\u001b[39m(\u001b[38;5;28mlen\u001b[39m(a))\n\u001b[32m     14\u001b[39m a = []\n\u001b[32m---> \u001b[39m\u001b[32m15\u001b[39m \u001b[43ma\u001b[49m\u001b[43m.\u001b[49m\u001b[43mpop\u001b[49m\u001b[43m(\u001b[49m\u001b[43m)\u001b[49m\n",
      "\u001b[31mIndexError\u001b[39m: pop from empty list"
     ]
    }
   ],
   "source": [
    "a = [1,2]\n",
    "b = [1,2]\n",
    "print(a+b)\n",
    "print(b+a)\n",
    "\n",
    "print(a is b)\n",
    "\n",
    "\n",
    "a = [1,2,3,4,5]\n",
    "del a[4]\n",
    "\n",
    "print(len(a))\n",
    "\n"
   ]
  },
  {
   "cell_type": "code",
   "execution_count": 41,
   "id": "c1f557be",
   "metadata": {},
   "outputs": [
    {
     "name": "stdout",
     "output_type": "stream",
     "text": [
      "3\n",
      "['capitalize', 'casefold', 'center', 'count', 'count', 'find', 'format', 'index', 'isalnum', 'isalpha', 'isdigit']\n"
     ]
    }
   ],
   "source": [
    "list_functions = [\n",
    "    \"capitalize\",\n",
    "    \"casefold\",\n",
    "    \"center\",\n",
    "    \"count\",\n",
    "    \"count\"\n",
    "]\n",
    "\n",
    "print(list_functions.index('count'))\n",
    "\n",
    "list_functions.extend(['find', 'format', 'index', 'isalnum', 'isalpha', 'isdigit'])\n",
    "\n",
    "print(list_functions)"
   ]
  },
  {
   "cell_type": "code",
   "execution_count": null,
   "id": "d1e80bf6",
   "metadata": {},
   "outputs": [
    {
     "name": "stdout",
     "output_type": "stream",
     "text": [
      "capitalize, casefold, center, count, count, find, format, index, isalnum, isalpha, isdigit\n"
     ]
    }
   ],
   "source": [
    "print(', '.join(list_functions))"
   ]
  },
  {
   "cell_type": "code",
   "execution_count": 47,
   "id": "381eb215",
   "metadata": {},
   "outputs": [
    {
     "name": "stdout",
     "output_type": "stream",
     "text": [
      "[1, 2, 3, 1, 2]\n"
     ]
    }
   ],
   "source": [
    "a = [1,2,3]\n",
    "b = [1,2]\n",
    "a.extend(b)\n",
    "\n",
    "print(a)\n",
    "# print(a + b)"
   ]
  },
  {
   "cell_type": "markdown",
   "id": "84e5c569",
   "metadata": {},
   "source": [
    "## List comprehensions (Must learn)"
   ]
  },
  {
   "cell_type": "code",
   "execution_count": 22,
   "id": "e5b4672f",
   "metadata": {},
   "outputs": [
    {
     "name": "stdout",
     "output_type": "stream",
     "text": [
      "[1, 2, 3, 4, 5]\n",
      "[1, 4, 9, 16, 25]\n",
      "[4, 16]\n"
     ]
    }
   ],
   "source": [
    "a = [1, 2, 3, 4, 5]\n",
    "print(a)\n",
    "\n",
    "b = [element**2 for element in a]\n",
    "\n",
    "print(b)\n",
    "\n",
    "c = [element**2 if element % 2 == 0 else element for element in a if element % 2 == 0]\n",
    "print(c)"
   ]
  },
  {
   "cell_type": "code",
   "execution_count": null,
   "id": "744398df",
   "metadata": {},
   "outputs": [
    {
     "name": "stdout",
     "output_type": "stream",
     "text": [
      "True\n"
     ]
    },
    {
     "ename": "SyntaxError",
     "evalue": "can't use starred expression here (1340373574.py, line 6)",
     "output_type": "error",
     "traceback": [
      "  \u001b[36mCell\u001b[39m\u001b[36m \u001b[39m\u001b[32mIn[57]\u001b[39m\u001b[32m, line 6\u001b[39m\n\u001b[31m    \u001b[39m\u001b[31mb = *a\u001b[39m\n        ^\n\u001b[31mSyntaxError\u001b[39m\u001b[31m:\u001b[39m can't use starred expression here\n"
     ]
    }
   ],
   "source": [
    "a = ('baba',2,2)\n",
    "b = ('baba',1,2)\n",
    "print(a > b)\n",
    "\n",
    "print(a is b)\n",
    "print(a == b)\n"
   ]
  },
  {
   "cell_type": "markdown",
   "id": "e2fe7920",
   "metadata": {},
   "source": [
    "Note: \n",
    "`is` checks if two variables point to the same object in memory.\n",
    "`==` checks if the values of two variables are equal."
   ]
  },
  {
   "cell_type": "markdown",
   "id": "cd1efc74",
   "metadata": {},
   "source": [
    "## Dictionary"
   ]
  },
  {
   "cell_type": "code",
   "execution_count": null,
   "id": "e4e61b6c",
   "metadata": {},
   "outputs": [
    {
     "name": "stdout",
     "output_type": "stream",
     "text": [
      "dict_keys(['Nguyen Thi Phuong Ngan', 'Nguyen Minh Quang'])\n",
      "dict_values([{'age': 20, 'address': 'Hue', 'grades': [8, 9, 10]}, {'age': 19, 'address': 'Hanoi', 'grades': [7, 8, 9], 'social_media': {'facebook': 'nguyenminhquang', 'twitter': 'nguyenminhquang'}}])\n",
      "dict_items([('Nguyen Thi Phuong Ngan', {'age': 20, 'address': 'Hue', 'grades': [8, 9, 10]}), ('Nguyen Minh Quang', {'age': 19, 'address': 'Hanoi', 'grades': [7, 8, 9], 'social_media': {'facebook': 'nguyenminhquang', 'twitter': 'nguyenminhquang'}})])\n",
      "{'age': 19, 'address': 'Hanoi', 'grades': [7, 8, 9], 'social_media': {'facebook': 'nguyenminhquang', 'twitter': 'nguyenminhquang'}}\n"
     ]
    }
   ],
   "source": [
    "students = {\n",
    "    \"Nguyen Thi Phuong Ngan\": {\n",
    "        \"age\": 20,\n",
    "        \"address\": \"Hue\",\n",
    "        \"grades\": [8, 9, 10]\n",
    "    },\n",
    "    \"Nguyen Minh Quang\": {\n",
    "        \"age\": 20,\n",
    "        \"address\": \"Hanoi\",\n",
    "        \"grades\": [7, 8, 9],\n",
    "        \"social_media\": {\n",
    "            \"facebook\": \"nguyenminhquang\",\n",
    "            \"twitter\": \"nguyenminhquang\"\n",
    "        }\n",
    "    },\n",
    "    \"Nguyen Minh Quang\": {\n",
    "        \"age\": 19,\n",
    "        \"address\": \"Hanoi\",\n",
    "        \"grades\": [7, 8, 9],\n",
    "        \"social_media\": {\n",
    "            \"facebook\": \"nguyenminhquang\",\n",
    "            \"twitter\": \"nguyenminhquang\"\n",
    "        }\n",
    "    }\n",
    "}\n",
    "\n",
    "print(students.keys())\n",
    "print(students.values())\n",
    "print(students.items())\n",
    "print(students.get(\"Nguyen Minh Quang\"))"
   ]
  },
  {
   "cell_type": "markdown",
   "id": "fc4fdc76",
   "metadata": {},
   "source": [
    "# Set"
   ]
  },
  {
   "cell_type": "code",
   "execution_count": 24,
   "id": "39a0d6df",
   "metadata": {},
   "outputs": [
    {
     "name": "stdout",
     "output_type": "stream",
     "text": [
      "{2, 3, 4, 5, 6, 10, 'ok'}\n"
     ]
    }
   ],
   "source": [
    "S = {10, 2, 6, 3, 4, 5, \"ok\"}\n",
    "print(S)"
   ]
  },
  {
   "cell_type": "code",
   "execution_count": 25,
   "id": "4200b154",
   "metadata": {},
   "outputs": [
    {
     "name": "stdout",
     "output_type": "stream",
     "text": [
      "{1, 2, 3, 4, 5, 6}\n",
      "{1, 2, 3, 4, 5, 6}\n"
     ]
    }
   ],
   "source": [
    "# union\n",
    "S1 = {1,2,3}\n",
    "S2 = {4,5,6}\n",
    "\n",
    "print(S1.union(S2))\n",
    "print(S1 | S2)"
   ]
  },
  {
   "cell_type": "code",
   "execution_count": 26,
   "id": "aca6ba05",
   "metadata": {},
   "outputs": [
    {
     "name": "stdout",
     "output_type": "stream",
     "text": [
      "{3}\n",
      "{3}\n"
     ]
    }
   ],
   "source": [
    "# intersection\n",
    "S1 = {1, 2, 3}\n",
    "S2 = {3, 4, 5}\n",
    "print(S1.intersection(S2))\n",
    "print(S1 & S2)"
   ]
  },
  {
   "cell_type": "code",
   "execution_count": 27,
   "id": "157207f3",
   "metadata": {},
   "outputs": [
    {
     "name": "stdout",
     "output_type": "stream",
     "text": [
      "{1}\n",
      "{4}\n"
     ]
    }
   ],
   "source": [
    "# Difference\n",
    "S1 = {1, 2, 3}\n",
    "S2 = {2, 3, 4}\n",
    "print(S1.difference(S2))\n",
    "print(S2-S1)"
   ]
  },
  {
   "cell_type": "code",
   "execution_count": 28,
   "id": "a4fbf404",
   "metadata": {},
   "outputs": [
    {
     "name": "stdout",
     "output_type": "stream",
     "text": [
      "{1, 4, (23, 12), 'ok'}\n",
      "{1, 4, (23, 12), 'ok'}\n"
     ]
    }
   ],
   "source": [
    "# Symmetric Difference\n",
    "S1 = {1, 2, 3}\n",
    "S2 = {2, 3, 4, \"ok\" , (23,12)}\n",
    "print(S1.symmetric_difference(S2))\n",
    "print(S1 ^ S2)\n",
    "\n"
   ]
  },
  {
   "cell_type": "markdown",
   "id": "39e4c651",
   "metadata": {},
   "source": [
    "### Note: Set only contains hashable types"
   ]
  },
  {
   "cell_type": "code",
   "execution_count": null,
   "id": "74fccd06",
   "metadata": {},
   "outputs": [
    {
     "name": "stdout",
     "output_type": "stream",
     "text": [
      "True\n"
     ]
    }
   ],
   "source": [
    "result = [1,2,3]\n",
    "\n",
    "nest = [int(e) for e in ' '.join([str(i) for i in result]).split( \")]\n",
    "\" \")]\n",
    "\n",
    "result.append(4)\n",
    "\n",
    "# nest = [int(e) for e in nest.split(\" \")]\n",
    "\n",
    "\n",
    "print(nest == [1,2,3])"
   ]
  },
  {
   "cell_type": "code",
   "execution_count": null,
   "id": "cde43181",
   "metadata": {},
   "outputs": [],
   "source": [
    "a = [\n",
    "    {\"oke\"},\n",
    "    {\n",
    "        'a':1,\n",
    "        'b':2\n",
    "    }\n",
    "]\n",
    "\n"
   ]
  }
 ],
 "metadata": {
  "kernelspec": {
   "display_name": ".venv",
   "language": "python",
   "name": "python3"
  },
  "language_info": {
   "codemirror_mode": {
    "name": "ipython",
    "version": 3
   },
   "file_extension": ".py",
   "mimetype": "text/x-python",
   "name": "python",
   "nbconvert_exporter": "python",
   "pygments_lexer": "ipython3",
   "version": "3.12.3"
  }
 },
 "nbformat": 4,
 "nbformat_minor": 5
}
